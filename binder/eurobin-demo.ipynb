{
 "cells": [
  {
   "attachments": {
    "13e1b9b8-d6b9-4721-9b8e-a31497917299.png": {
     "image/png": "[encoded data removed]"
    }
   },
   "cell_type": "markdown",
   "id": "ae54a877-820a-4f80-990d-0f524e930aae",
   "metadata": {},
   "source": [
    "![euROBIN-Logo.png](attachment:13e1b9b8-d6b9-4721-9b8e-a31497917299.png)"
   ]
  },
  {
   "attachments": {},
   "cell_type": "markdown",
   "id": "f729d074-6a24-43c9-b528-fe4d7314a271",
   "metadata": {
    "tags": []
   },
   "source": [
    "## Robot & Environment\n",
    "\n",
    "We will work with the TIAGo robot in the IAI Bremen apartment laboratory. Open a new tab in JupyterNotebook, then open a Terminal. Execute the following launchfile in that terminal to launch the environment.\n",
    "```bash\n",
    "# load TIAGo\n",
    "roslaunch cram_projection_demos apartment_tiago.launch\n",
    "\n",
    "# or load the PR2 \n",
    "roslaunch cram_projection_demos apartment_pr2.launch\n",
    "```"
   ]
  },
  {
   "attachments": {},
   "cell_type": "markdown",
   "id": "6598e151-7ea0-4b17-b596-60264c51fc5c",
   "metadata": {},
   "source": [
    "Load the CRAM system for our robot demos. Hit CTRL-Enter in the code-blocks to execute them. Wait until the `[*]` symbol turns into a number. Hide the outprint by hitting the blue vertical bar to the left."
   ]
  },
  {
   "cell_type": "code",
   "execution_count": null,
   "id": "9cbb372b",
   "metadata": {
    "vscode": {
     "languageId": "plaintext"
    }
   },
   "outputs": [],
   "source": [
    "(uiop:run-program \n",
    " \"roslaunch cram_projection_demos apartment_tiago.launch &\" \n",
    ":output t\n",
    ":error-output t)\n",
    "\n",
    "(uiop:run-program \n",
    " \"roslaunch rvizweb update_config.launch config_file:=${REPO_DIR}/binder/rviz_config.json\" \n",
    ":output t\n",
    ":error-output t)"
   ]
  },
  {
   "cell_type": "code",
   "execution_count": null,
   "id": "eb33226d-bf05-4fd1-a957-bea17635e18b",
   "metadata": {
    "tags": []
   },
   "outputs": [],
   "source": [
    "(asdf:load-system :cram-projection-demos)"
   ]
  },
  {
   "cell_type": "code",
   "execution_count": null,
   "id": "1b6f48e4",
   "metadata": {
    "vscode": {
     "languageId": "plaintext"
    }
   },
   "outputs": [],
   "source": [
    "(setf cram-tf:*tf-broadcasting-enabled* t)\n",
    "(setf cram-tf:*tf-broadcasting-topic* \"tf\")\n",
    "(setf cram-tf:*broadcast-environment-from-projection* t)"
   ]
  },
  {
   "attachments": {},
   "cell_type": "markdown",
   "id": "33933260-bbe2-4248-9e5f-93bd74966c46",
   "metadata": {},
   "source": [
    "Initialize the simulation."
   ]
  },
  {
   "cell_type": "code",
   "execution_count": null,
   "id": "b3ab5221-787a-48b7-8edf-1370130f68e2",
   "metadata": {
    "tags": []
   },
   "outputs": [],
   "source": [
    "(roslisp-utilities:startup-ros)"
   ]
  },
  {
   "attachments": {},
   "cell_type": "markdown",
   "id": "4020285b-34b8-4033-8756-1cf2a8ff87c1",
   "metadata": {},
   "source": [
    "The robot appears at 0,0 by default. Position it in the apartment."
   ]
  },
  {
   "cell_type": "code",
   "execution_count": null,
   "id": "42cc4cb0-d780-4dc5-b018-9173dc9e60f9",
   "metadata": {
    "tags": []
   },
   "outputs": [],
   "source": [
    "(btr-utils:move-robot '((9 3 0) (0 0 0 1)))"
   ]
  },
  {
   "cell_type": "code",
   "execution_count": null,
   "id": "76fdf11a-f06c-4aef-ba15-9ca96be1a3ed",
   "metadata": {
    "tags": []
   },
   "outputs": [],
   "source": [
    "(urdf-proj:with-projected-robot\n",
    " (demos::eurobin-demo))"
   ]
  },
  {
   "attachments": {},
   "cell_type": "markdown",
   "id": "81a89e22-a901-4ed1-9806-62b827a6c438",
   "metadata": {},
   "source": [
    "Source file [eurobin-demo](../../workspace/ros/src/cram/cram_demos/cram_projection_demos/src/eurobin-demo.lisp)"
   ]
  },
  {
   "attachments": {},
   "cell_type": "markdown",
   "id": "cfc86fe4-69f7-42ad-a47f-74bb3576fbf1",
   "metadata": {},
   "source": [
    "## Plan Execution\n",
    "\n",
    "With CRAM it is pretty easy to write a sequence of tasks. We will develop a simple plan to fetch a package and unpack it.\n",
    "\n",
    "* move robot to the door\n",
    "* open the door\n",
    "* perceive box\n",
    "* pick up box\n",
    "* move robot to delivery location\n",
    "* place box\n",
    "* pick up cup from the box\n",
    "* place cup"
   ]
  },
  {
   "cell_type": "code",
   "execution_count": null,
   "id": "6f440235-5be3-4eab-ab11-014fd784b031",
   "metadata": {
    "tags": []
   },
   "outputs": [],
   "source": [
    ";; Switch to the 'demos' namespace\n",
    "\n",
    "(in-package :demos)"
   ]
  },
  {
   "cell_type": "code",
   "execution_count": null,
   "id": "621f4ff6-c0d7-4cc5-b4a6-63d3c6cb63a6",
   "metadata": {
    "tags": []
   },
   "outputs": [],
   "source": [
    ";; Reset the simulation\n",
    "\n",
    "(initialize-eurobin)"
   ]
  },
  {
   "cell_type": "code",
   "execution_count": null,
   "id": "2dd777f8-09d8-4491-bf5f-614f4a9e0587",
   "metadata": {
    "tags": []
   },
   "outputs": [],
   "source": [
    ";; Move the robot into the apartment\n",
    "\n",
    "(btr-utils:move-robot '((9 3 0) (0 0 0 1)))"
   ]
  },
  {
   "attachments": {},
   "cell_type": "markdown",
   "id": "d95ab1e1-4c8b-4984-b773-3ce8bf610d69",
   "metadata": {},
   "source": [
    "### Moving torso"
   ]
  },
  {
   "cell_type": "code",
   "execution_count": null,
   "id": "daa35040-f224-4174-868f-16ca4635cd0f",
   "metadata": {
    "tags": []
   },
   "outputs": [],
   "source": [
    ";; Move Torso lower limit\n",
    "\n",
    "(urdf-proj:with-simulated-robot\n",
    "  (exe:perform\n",
    "       (desig:an action\n",
    "                 (type moving-torso)\n",
    "                 (joint-angle lower-limit))))"
   ]
  },
  {
   "cell_type": "code",
   "execution_count": null,
   "id": "82eeec61-981d-4263-887b-421aab990675",
   "metadata": {
    "tags": []
   },
   "outputs": [],
   "source": [
    ";; Move Torso to joint-state 0.2\n",
    "\n",
    "(urdf-proj:with-simulated-robot\n",
    "  (exe:perform\n",
    "       (desig:an action\n",
    "                 (type moving-torso)\n",
    "                 (joint-angle 0.2))))"
   ]
  },
  {
   "cell_type": "code",
   "execution_count": null,
   "id": "34087657-be5b-4b89-bab9-ea27577db618",
   "metadata": {
    "tags": []
   },
   "outputs": [],
   "source": [
    ";; Move Torso to upper limit\n",
    "\n",
    "(urdf-proj:with-simulated-robot\n",
    "  (exe:perform\n",
    "       (desig:an action\n",
    "                 (type moving-torso)\n",
    "                 (joint-angle upper-limit))))"
   ]
  },
  {
   "attachments": {},
   "cell_type": "markdown",
   "id": "33078ec3-8125-47a6-9756-d445ea36a6a6",
   "metadata": {},
   "source": [
    "### Going"
   ]
  },
  {
   "cell_type": "code",
   "execution_count": null,
   "id": "c3dac09a-d853-4ade-af96-39a51e3e3af5",
   "metadata": {
    "tags": []
   },
   "outputs": [],
   "source": [
    ";; Define a pose on the ground for the robot to stand.\n",
    "\n",
    "(let ((?base-pose \n",
    "       (cl-transforms-stamped:make-pose-stamped\n",
    "        \"map\" (roslisp:ros-time)\n",
    "        (cl-tf:make-3d-vector 9.7d0 4.3d0 0.0d0)\n",
    "        (cl-tf:euler->quaternion :az (* pi 0.25))))) ;; rotate 45 degree\n",
    "     (urdf-proj:with-simulated-robot\n",
    "      (exe:perform\n",
    "       (desig:an action\n",
    "                 (type going)\n",
    "                 (target (desig:a location\n",
    "                                  (pose ?base-pose)))))))"
   ]
  },
  {
   "cell_type": "code",
   "execution_count": null,
   "id": "b9900136-c987-4c67-a643-65f2338f76e3",
   "metadata": {
    "tags": []
   },
   "outputs": [],
   "source": [
    "(let ((?base-pose \n",
    "       (cl-transforms-stamped:make-pose-stamped\n",
    "        \"map\" (roslisp:ros-time)\n",
    "        (cl-tf:make-3d-vector 9.7d0 4.3d0 0.0d0)\n",
    "        (cl-tf:euler->quaternion :az (* pi 0.5))))) ;; rotate 90 degree\n",
    "     (urdf-proj:with-simulated-robot\n",
    "      (exe:perform\n",
    "       (desig:an action\n",
    "                 (type going)\n",
    "                 (target (desig:a location\n",
    "                                  (pose ?base-pose)))))))"
   ]
  },
  {
   "cell_type": "code",
   "execution_count": null,
   "id": "88ac9b85-48bd-45d4-ad9b-605fbe6f757f",
   "metadata": {
    "tags": []
   },
   "outputs": [],
   "source": [
    "(let ((?base-pose \n",
    "       (cl-transforms-stamped:make-pose-stamped\n",
    "        \"map\" (roslisp:ros-time)\n",
    "        (cl-tf:make-3d-vector 9.7d0 4.3d0 0.0d0)\n",
    "        (cl-tf:euler->quaternion :az (* pi 0.75))))) ;; rotate 135 degree\n",
    "     (urdf-proj:with-simulated-robot\n",
    "      (exe:perform\n",
    "       (desig:an action\n",
    "                 (type going)\n",
    "                 (target (desig:a location\n",
    "                                  (pose ?base-pose)))))))"
   ]
  },
  {
   "attachments": {},
   "cell_type": "markdown",
   "id": "a14cd91e-7599-489e-9d13-810ccd40b258",
   "metadata": {},
   "source": [
    "## Open the door"
   ]
  },
  {
   "cell_type": "code",
   "execution_count": null,
   "id": "2d96f175-afc3-4d93-a010-aae32029fc65",
   "metadata": {
    "tags": []
   },
   "outputs": [],
   "source": [
    ";; Open the door a bit\n",
    "\n",
    "(urdf-proj:with-simulated-robot \n",
    " (exe:perform\n",
    "  (desig:an action\n",
    "            (type opening)\n",
    "            (arm right)\n",
    "            (distance 0.4)\n",
    "            (grasps (door-angled))\n",
    "            (object (desig:an object\n",
    "                              (type fridge)\n",
    "                              (urdf-name window4-right)\n",
    "                              (part-of apartment))))))"
   ]
  },
  {
   "cell_type": "code",
   "execution_count": null,
   "id": "103103c6-660c-4676-86a9-c912a1a500f7",
   "metadata": {
    "tags": []
   },
   "outputs": [],
   "source": [
    ";; Reposition the base to grasp the handle again\n",
    "\n",
    "(let ((?base-pose \n",
    "       (cl-transforms-stamped:make-pose-stamped\n",
    "        \"map\" (roslisp:ros-time)\n",
    "        (cl-tf:make-3d-vector 9.8d0 4.1d0 0.0d0)\n",
    "        (cl-tf:euler->quaternion :az (* pi 0.75))))) ;; rotate 135 degree\n",
    "     (urdf-proj:with-simulated-robot\n",
    "      (exe:perform\n",
    "       (desig:an action\n",
    "                 (type going)\n",
    "                 (target (desig:a location\n",
    "                                  (pose ?base-pose)))))))"
   ]
  },
  {
   "cell_type": "code",
   "execution_count": null,
   "id": "a9d3f158-0d08-490d-bea3-99bdda30b694",
   "metadata": {
    "tags": []
   },
   "outputs": [],
   "source": [
    ";; Open the door a bit\n",
    "\n",
    "(urdf-proj:with-simulated-robot \n",
    " (exe:perform\n",
    "  (desig:an action\n",
    "            (type opening)\n",
    "            (arm right)\n",
    "            (distance 1.0)\n",
    "            (grasps (door-angled))\n",
    "            (object (desig:an object\n",
    "                              (type cupboard)\n",
    "                              (urdf-name window4-right)\n",
    "                              (part-of apartment))))))"
   ]
  },
  {
   "cell_type": "code",
   "execution_count": null,
   "id": "84c07ea2-310d-4a8c-b295-1b7db7f4b3d1",
   "metadata": {
    "tags": []
   },
   "outputs": [],
   "source": [
    ";; Open the door a lot\n",
    "\n",
    "(urdf-proj:with-simulated-robot \n",
    " (exe:perform\n",
    "  (desig:an action\n",
    "            (type opening)\n",
    "            (arm right)\n",
    "            (distance 1.5)\n",
    "            (grasps (door-angled))\n",
    "            (object (desig:an object\n",
    "                              (type cupboard)\n",
    "                              (urdf-name window4-right)\n",
    "                              (part-of apartment))))))"
   ]
  },
  {
   "attachments": {},
   "cell_type": "markdown",
   "id": "adca7b59-2f76-4307-84f0-4dc3367b960c",
   "metadata": {},
   "source": [
    "## Fetch the package"
   ]
  },
  {
   "cell_type": "code",
   "execution_count": null,
   "id": "67f70a60-7337-40f3-ac6e-a3b02c324f88",
   "metadata": {
    "tags": []
   },
   "outputs": [],
   "source": [
    ";; Spawn the box\n",
    "\n",
    "(btr-utils:spawn-object :name-of-the-open-box-that-will-be-fetched\n",
    "                        :open-box :pose '((9.95 5.40 0.8) (0 0 0 1)))"
   ]
  },
  {
   "cell_type": "code",
   "execution_count": null,
   "id": "2311cf14-7f8e-4e4e-8ee2-7caeaa68daab",
   "metadata": {
    "tags": []
   },
   "outputs": [],
   "source": [
    ";; Simulate the world for 1 second\n",
    "\n",
    "(dotimes (i 10)\n",
    "    (sleep 0.05)\n",
    "    (btr:simulate btr:*current-bullet-world* 0.05))"
   ]
  },
  {
   "cell_type": "code",
   "execution_count": null,
   "id": "3c37d67f-8f3a-4912-8ed1-28538393fcb5",
   "metadata": {
    "tags": []
   },
   "outputs": [],
   "source": [
    ";; Spawn a pedestal for the box.\n",
    "\n",
    "(unless (btr:object btr:*current-bullet-world* :package-stand)\n",
    "    (btr:add-object btr:*current-bullet-world*\n",
    "                    :cylinder\n",
    "                    :package-stand\n",
    "                    '((9.95 5.40 0.35)(0 0 0 1))\n",
    "                    :size '(0.3 0.3 0.7)\n",
    "                    :mass 1.0))"
   ]
  },
  {
   "cell_type": "code",
   "execution_count": null,
   "id": "e4603b2c-430d-4d83-94dd-1879580bd1aa",
   "metadata": {
    "tags": []
   },
   "outputs": [],
   "source": [
    ";; Move the box back up onto the pedestal\n",
    "\n",
    "(btr-utils:spawn-object :name-of-the-open-box-that-will-be-fetched\n",
    "                        :open-box :pose '((9.95 5.40 0.8) (0 0 0 1)))"
   ]
  },
  {
   "cell_type": "code",
   "execution_count": null,
   "id": "49c51654-7d36-4958-ae9d-01ccbc1dae93",
   "metadata": {
    "tags": []
   },
   "outputs": [],
   "source": [
    ";; Go to the location to pick up the box.\n",
    "\n",
    "(let ((?picking-up-package-base-pose\n",
    "      (cl-transforms-stamped:make-pose-stamped\n",
    "       \"map\" (roslisp:ros-time)\n",
    "       (cl-tf:make-3d-vector 9.5d0 4.6d0 0.0d0)\n",
    "       (cl-tf:euler->quaternion :az (* pi 0.5)))))\n",
    "     \n",
    "     (urdf-proj:with-simulated-robot \n",
    "         (exe:perform\n",
    "               (desig:an action\n",
    "                     (type going)\n",
    "                     (target (desig:a location\n",
    "                                      (pose ?picking-up-package-base-pose)))))))"
   ]
  },
  {
   "attachments": {},
   "cell_type": "markdown",
   "id": "2de22466-6d92-4ede-8063-cf675e241e4e",
   "metadata": {},
   "source": [
    "### Handling Failures\n",
    "\n",
    "Provoke a failure by NOT looking at the package. "
   ]
  },
  {
   "cell_type": "code",
   "execution_count": null,
   "id": "bd2f6e9e-4542-4b97-b870-4f8adcdccf55",
   "metadata": {
    "tags": []
   },
   "outputs": [],
   "source": [
    ";; Move the head to look away.\n",
    "\n",
    "(let ((?look-away-poi\n",
    "       (cl-tf:make-pose-stamped\n",
    "        \"base_footprint\" 0.0\n",
    "        (cl-tf:make-3d-vector 1.0 0.5 0.5)\n",
    "        (cl-tf:make-identity-rotation))))\n",
    "     ;; tilt the head to look to the bottom left.\n",
    "     (urdf-proj:with-simulated-robot\n",
    "      (exe:perform\n",
    "               (desig:an action\n",
    "                  (type looking)\n",
    "                  (target (desig:a location\n",
    "                                   (pose ?look-away-poi)))))))"
   ]
  },
  {
   "cell_type": "code",
   "execution_count": null,
   "id": "b33108a2-0f53-4f58-9553-c874617b4208",
   "metadata": {
    "tags": []
   },
   "outputs": [],
   "source": [
    ";; Perceive package - EXPECTING ERROR: perception-object-not-found\n",
    "\n",
    "(urdf-proj:with-simulated-robot \n",
    " (exe:perform\n",
    "  (desig:an action\n",
    "           (type detecting)\n",
    "           (object (desig:an object\n",
    "                             (type open-box))))))"
   ]
  },
  {
   "cell_type": "code",
   "execution_count": null,
   "id": "5a4d7f5a-719d-43de-8c86-3c7ac10fe49e",
   "metadata": {
    "tags": []
   },
   "outputs": [],
   "source": [
    ";; Prepare recovery strategy: look around \n",
    "\n",
    "(urdf-proj:with-simulated-robot\n",
    "\n",
    "(cpl:with-retry-counters ((detect-retries 1))\n",
    "        ;;;;;;;;;;;;;;;;;;;\n",
    "        ;; Failure handling\n",
    "    (cpl:with-failure-handling\n",
    "        ;; when an object can't be found...\n",
    "     ((common-fail:perception-object-not-found\n",
    "       (e) \n",
    "       (roslisp:ros-warn (pp-plans pick-up)\n",
    "                         \"Looking-at had a problem: ~a~%Ignoring.\" e)\n",
    "       (let ((?door-poi\n",
    "              (cl-tf:make-pose-stamped \"base_footprint\" 0.0\n",
    "                                       (cl-tf:make-3d-vector 1.0 -0.5 0.5)\n",
    "                                       (cl-tf:make-identity-rotation))))\n",
    "        ;; tilt the head to look to the bottom right...\n",
    "          (exe:perform\n",
    "           (desig:an action\n",
    "                     (type looking)\n",
    "                     (target (desig:a location\n",
    "                                      (pose ?door-poi)))))\n",
    "          (cpl:do-retry detect-retries\n",
    "                        (cpl:retry))\n",
    "          (return))))\n",
    "        ;; Failure handling\n",
    "        ;;;;;;;;;;;;;;;;;;;\n",
    "         \n",
    "        ;;;;;;;;;;;;;;;;;;;;;;\n",
    "        ;; Plan to be executed\n",
    "        ;; perceive on object that looks like an open box\n",
    "      (exe:perform\n",
    "       (desig:an action\n",
    "           (type detecting)\n",
    "           (object (desig:an object\n",
    "                             (type open-box))))))))\n"
   ]
  },
  {
   "attachments": {},
   "cell_type": "markdown",
   "id": "3df13e5d-678d-4d88-afdb-21a94935c5b1",
   "metadata": {},
   "source": [
    "### Pick & place the package "
   ]
  },
  {
   "cell_type": "code",
   "execution_count": null,
   "id": "a9ef14ac-764c-47d8-82e2-b227161d4e4b",
   "metadata": {
    "tags": []
   },
   "outputs": [],
   "source": [
    ";; Perceive the package and pick it up\n",
    "\n",
    "(urdf-proj:with-simulated-robot\n",
    "      ;; perceive package\n",
    "      (let ((?package-desig (exe:perform\n",
    "                             (desig:an action\n",
    "                                       (type detecting)\n",
    "                                       (object (desig:an object\n",
    "                                                         (type open-box)))))))\n",
    "        ;; pick-up the package\n",
    "        (exe:perform\n",
    "         (desig:an action\n",
    "                   (type picking-up)\n",
    "                   (object ?package-desig)\n",
    "                   (park-arms nil)))))"
   ]
  },
  {
   "cell_type": "code",
   "execution_count": null,
   "id": "31c79eb0-8a85-45ee-8a37-9fe599cdb94a",
   "metadata": {
    "tags": []
   },
   "outputs": [],
   "source": [
    ";; Go to target delivery location\n",
    "\n",
    "(urdf-proj:with-simulated-robot\n",
    " (let ((?placing-package-base-pose\n",
    "           (cl-transforms-stamped:make-pose-stamped\n",
    "            \"map\" (roslisp:ros-time)\n",
    "            (cl-tf:make-3d-vector 15.4d0 2.0d0 0.0d0)\n",
    "            (cl-tf:euler->quaternion :az (* pi 0.0)))))\n",
    "      ;; going to placing location\n",
    "      (exe:perform\n",
    "       (desig:an action\n",
    "                 (type going)\n",
    "                 (target (desig:a location\n",
    "                                  (pose ?placing-package-base-pose)))))))"
   ]
  },
  {
   "cell_type": "code",
   "execution_count": null,
   "id": "36471e38-5d36-4801-b617-b72d2d1654cf",
   "metadata": {
    "tags": []
   },
   "outputs": [],
   "source": [
    ";; Place the box\n",
    "\n",
    "(urdf-proj:with-simulated-robot\n",
    " (let ((?box-delivery-pose\n",
    "           (cl-transforms-stamped:make-pose-stamped\n",
    "            \"map\" (roslisp:ros-time)\n",
    "            (cl-tf:make-3d-vector 16.05d0 1.87d0 0.56d0)\n",
    "            (cl-tf:euler->quaternion :az (* pi 0.0)))))\n",
    "      ;; place box\n",
    "      (exe:perform\n",
    "       (desig:an action\n",
    "                 (type placing)\n",
    "                 (target (desig:a location\n",
    "                                  (pose ?box-delivery-pose)))))))"
   ]
  },
  {
   "attachments": {},
   "cell_type": "markdown",
   "id": "02db4f24-7715-4976-b9ca-88bea2750353",
   "metadata": {},
   "source": [
    "### Fetching out of the box"
   ]
  },
  {
   "cell_type": "code",
   "execution_count": null,
   "id": "41c8e1c8-bddd-453d-aeae-50ac78ead3f8",
   "metadata": {
    "tags": []
   },
   "outputs": [],
   "source": [
    ";; Spawn a cup in the box\n",
    "\n",
    "(btr-utils:spawn-object :jeroen-cup-the-robot-wants\n",
    "                        :jeroen-cup :pose \n",
    "                        '((16.05d0 1.87d0 0.56d0)(0 0 0 1)))"
   ]
  },
  {
   "cell_type": "code",
   "execution_count": null,
   "id": "3435726a-2ef7-4031-a5d5-0a6975d3a11a",
   "metadata": {
    "tags": []
   },
   "outputs": [],
   "source": [
    ";; Pick up the cup\n",
    "\n",
    "(urdf-proj:with-simulated-robot\n",
    " (let ((?cup-desig (exe:perform\n",
    "                       (desig:an action\n",
    "                                 (type detecting)\n",
    "                                 (object (desig:an object\n",
    "                                                   (type jeroen-cup)))))))\n",
    "     \n",
    "      (exe:perform\n",
    "         (desig:an action\n",
    "                   (type picking-up)\n",
    "                   (object ?cup-desig)\n",
    "                   (grasp top)))))"
   ]
  },
  {
   "cell_type": "code",
   "execution_count": null,
   "id": "c8fb68fa-c65b-44bf-9ae3-1e8921ef324b",
   "metadata": {
    "tags": []
   },
   "outputs": [],
   "source": [
    ";; Go to delivery location\n",
    "\n",
    "(urdf-proj:with-simulated-robot\n",
    " (let ((?item-delivery-base-pose\n",
    "       (cl-transforms-stamped:make-pose-stamped\n",
    "        \"map\" (roslisp:ros-time)\n",
    "        (cl-tf:make-3d-vector 15.6d0 3.0d0 0.0d0)\n",
    "        (cl-tf:euler->quaternion :az (* pi 0.0)))))\n",
    " (exe:perform\n",
    "  (desig:an action\n",
    "            (type going)\n",
    "            (target (desig:a location\n",
    "                             (pose ?item-delivery-base-pose)))))))"
   ]
  },
  {
   "cell_type": "code",
   "execution_count": null,
   "id": "ccda2e0a-6612-4a4b-8ad4-03c1aa4893ce",
   "metadata": {
    "tags": []
   },
   "outputs": [],
   "source": [
    ";; Deliver the cup\n",
    "\n",
    "(urdf-proj:with-simulated-robot\n",
    " (let ((?item-delivery-pose\n",
    "           (cl-transforms-stamped:make-pose-stamped\n",
    "            \"map\" (roslisp:ros-time)\n",
    "            (cl-tf:make-3d-vector 16.14d0 3.0d0 0.48d0)\n",
    "            (cl-tf:euler->quaternion :az (* pi 1.0)))))\n",
    "      (exe:perform\n",
    "       (desig:an action\n",
    "                 (type placing)\n",
    "                 (target (desig:a location\n",
    "                                  (pose ?item-delivery-pose)))))))"
   ]
  },
  {
   "cell_type": "code",
   "execution_count": null,
   "id": "91e6c48f-d6fd-4e09-9d9f-2d029eadd302",
   "metadata": {
    "tags": []
   },
   "outputs": [],
   "source": [
    ";; Perform pick and place of cup as a whole\n",
    "\n",
    "(urdf-proj:with-simulated-robot\n",
    "(let ((?placing-package-base-pose\n",
    "           (cl-transforms-stamped:make-pose-stamped\n",
    "            \"map\" (roslisp:ros-time)\n",
    "            (cl-tf:make-3d-vector 15.4d0 2.0d0 0.0d0)\n",
    "            (cl-tf:euler->quaternion :az (* pi 0.0))))\n",
    "      (?item-delivery-base-pose\n",
    "           (cl-transforms-stamped:make-pose-stamped\n",
    "            \"map\" (roslisp:ros-time)\n",
    "            (cl-tf:make-3d-vector 15.5d0 3.0d0 0.0d0)\n",
    "            (cl-tf:euler->quaternion :az (* pi 0.0))))\n",
    "         (?item-delivery-pose\n",
    "           (cl-transforms-stamped:make-pose-stamped\n",
    "            \"map\" (roslisp:ros-time)\n",
    "            (cl-tf:make-3d-vector 16.2d0 3.0d0 0.48d0)\n",
    "            (cl-tf:euler->quaternion :az (* pi 0.0)))))\n",
    "     ;; Going\n",
    "     (exe:perform\n",
    "       (desig:an action\n",
    "                 (type going)\n",
    "                 (target (desig:a location\n",
    "                                  (pose ?placing-package-base-pose)))))\n",
    "     \n",
    "     (btr-utils:spawn-object :jeroen-cup-the-robot-wants \n",
    "                             :jeroen-cup :pose '((16.05d0 1.87d0 0.56d0)(0 0 0 1)))\n",
    "\n",
    "      (let ((?package-desig (exe:perform\n",
    "                             (desig:an action\n",
    "                                       (type detecting)\n",
    "                                       (object (desig:an object\n",
    "                                                         (type jeroen-cup)))))))\n",
    "        ;; pick-up the package\n",
    "        (exe:perform\n",
    "         (desig:an action\n",
    "                   (type picking-up)\n",
    "                   (object ?package-desig)\n",
    "                   (grasp top))))\n",
    "\n",
    "      (exe:perform\n",
    "       (desig:an action\n",
    "                 (type going)\n",
    "                 (target (desig:a location\n",
    "                                  (pose ?item-delivery-base-pose)))))\n",
    "\n",
    "      (exe:perform\n",
    "       (desig:an action\n",
    "                 (type placing)\n",
    "                 (target (desig:a location\n",
    "                                  (pose ?item-delivery-pose)))))))"
   ]
  },
  {
   "cell_type": "code",
   "execution_count": null,
   "id": "c98851ed-9569-4af5-9e0a-20225d41c4c0",
   "metadata": {
    "tags": []
   },
   "outputs": [],
   "source": [
    "(btr-utils:kill-all-objects)"
   ]
  },
  {
   "cell_type": "code",
   "execution_count": null,
   "id": "69d1b221-ae31-48f9-a098-8e76a4c6696c",
   "metadata": {},
   "outputs": [],
   "source": [
    "---------------------------------------------------------------------\n",
    "---------------------------------------------------------------------\n",
    "---------------------------------------------------------------------\n",
    "---------------------------------------------------------------------"
   ]
  },
  {
   "cell_type": "code",
   "execution_count": null,
   "id": "aff1f739-117a-4b2d-9911-9b727dbcf289",
   "metadata": {
    "tags": []
   },
   "outputs": [],
   "source": [
    ";; This function positions the arms, moves the torso up and moves the robot to the initial position\n",
    "\n",
    "(defun park-robot (&optional (?nav-pose\n",
    "                              (cl-transforms-stamped:make-pose-stamped\n",
    "                               cram-tf:*fixed-frame*\n",
    "                               0.0\n",
    "                               (cl-transforms:make-identity-vector)\n",
    "                               (cl-transforms:make-identity-rotation))))\n",
    "  (cpl:with-failure-handling\n",
    "      ((cpl:plan-failure (e)\n",
    "         (declare (ignore e))\n",
    "         (return)))\n",
    "    (cpl:par\n",
    "      (exe:perform\n",
    "       (desig:an action\n",
    "                 (type positioning-arm)\n",
    "                 (left-configuration park)\n",
    "                 (right-configuration park)))\n",
    "      (exe:perform\n",
    "       (desig:an action\n",
    "                 (type moving-torso)\n",
    "                 (joint-angle upper-limit)))\n",
    "      (exe:perform\n",
    "       (desig:an action\n",
    "                 (type going)\n",
    "                 (target (desig:a location\n",
    "                                  (pose ?nav-pose)))))\n",
    "      (exe:perform (desig:an action (type opening-gripper) (gripper (left right))))\n",
    "      (exe:perform (desig:an action (type looking) (direction forward))))))"
   ]
  },
  {
   "attachments": {},
   "cell_type": "markdown",
   "id": "f030987e-3523-42e8-a868-59057121c9c5",
   "metadata": {},
   "source": [
    "# Utils\n"
   ]
  },
  {
   "cell_type": "code",
   "execution_count": null,
   "id": "4b6bdf09-7e7e-411f-aeeb-22c3c5b01775",
   "metadata": {
    "tags": []
   },
   "outputs": [],
   "source": [
    ";; Reset the debug window\n",
    "\n",
    "(btr-utils:reset-debug-window)"
   ]
  },
  {
   "cell_type": "code",
   "execution_count": null,
   "id": "277a4376-3e32-4386-beec-c75b75cc5604",
   "metadata": {
    "tags": []
   },
   "outputs": [],
   "source": [
    " (let ((?pose\n",
    "           (cl-transforms-stamped:make-pose-stamped\n",
    "            \"map\" (roslisp:ros-time)\n",
    "            (cl-tf:make-3d-vector 16.14d0 3.0d0 0.48d0)\n",
    "            (cl-tf:euler->quaternion :az (* pi 1.0)))))\n",
    "      \n",
    "      ;; Visualize a pose\n",
    "      (btr:add-vis-axis-object ?pose))"
   ]
  },
  {
   "cell_type": "code",
   "execution_count": null,
   "id": "46b27f97-106e-4299-bbef-8f2a12f249c9",
   "metadata": {
    "tags": []
   },
   "outputs": [],
   "source": [
    ";; Park Arms\n",
    "\n",
    "(urdf-proj:with-simulated-robot\n",
    " (exe:perform\n",
    "       (desig:an action\n",
    "                 (type positioning-arm)\n",
    "                 (left-configuration park)\n",
    "                 (right-configuration park))))"
   ]
  },
  {
   "cell_type": "code",
   "execution_count": null,
   "id": "328fbfa9-dc7f-4d13-affd-8648a2239716",
   "metadata": {},
   "outputs": [],
   "source": []
  }
 ],
 "metadata": {
  "kernelspec": {
   "display_name": "Common Lisp",
   "language": "common-lisp",
   "name": "common-lisp"
  },
  "language_info": {
   "codemirror_mode": "text/x-common-lisp",
   "file_extension": ".lisp",
   "mimetype": "text/x-common-lisp",
   "name": "common-lisp",
   "pygments_lexer": "common-lisp",
   "version": "2.0.1.debian"
  }
 },
 "nbformat": 4,
 "nbformat_minor": 5
}
