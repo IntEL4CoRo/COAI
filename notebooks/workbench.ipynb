{
 "cells": [
  {
   "cell_type": "markdown",
   "id": "34a0837c-ec47-4b4a-b037-98c162fd1c5a",
   "metadata": {},
   "source": [
    "# Researcher's workbench"
   ]
  },
  {
   "cell_type": "markdown",
   "id": "1754588c-99e9-46e5-85b5-4676d909f2af",
   "metadata": {},
   "source": [
    "## Select envrionment and robot"
   ]
  },
  {
   "cell_type": "code",
   "execution_count": null,
   "id": "1255128c-f689-4865-9a73-2644e70641e8",
   "metadata": {},
   "outputs": [],
   "source": [
    "(defparameter settings (list :robot \"pr2\" :labenv \"household\"))\n",
    "\n",
    "(jw:make-interactive-plist\n",
    "  '(\n",
    "    (:indicator :labenv :type :option :style :dropdown\n",
    "     :label \"Environment:\" :options (\"apartment\" \"household\" \"retail\"))\n",
    "    (:indicator :robot :type :option :style :dropdown\n",
    "     :label \"Robot:\" :options (\"tiago\" \"pr2\" \"donbot\"))\n",
    "  ) settings)\n",
    "\n",
    "(jw:make-button :description \"Launch Environments\" :on-click (list (lambda (w) w \n",
    "    (uiop:run-program (format nil \"${REPO_DIR}/binder/update_scene.sh ~A_~A.launch\"\n",
    "        (getf settings :labenv) (getf settings :robot)) :output t)\n",
    ")))"
   ]
  },
  {
   "cell_type": "markdown",
   "id": "8fbd79d2-bdf4-4964-a339-70988fcda9b7",
   "metadata": {},
   "source": [
    "## Run the task\n",
    "\n",
    "1. Load the code and initialize the plan executive"
   ]
  },
  {
   "cell_type": "code",
   "execution_count": null,
   "id": "0c610299-3457-45f1-a1c5-270f08856e5e",
   "metadata": {
    "scrolled": true,
    "tags": []
   },
   "outputs": [],
   "source": [
    "(asdf:load-system :cram-projection-demos)\n",
    "(roslisp-utilities:startup-ros)"
   ]
  },
  {
   "cell_type": "markdown",
   "id": "e0f9c8e7-57ad-4980-a589-bbba60c732ee",
   "metadata": {},
   "source": [
    "2. Start a demo task"
   ]
  },
  {
   "cell_type": "code",
   "execution_count": null,
   "id": "b905559d-86dd-4e59-bc51-8cc72b9f0e23",
   "metadata": {
    "scrolled": true,
    "tags": []
   },
   "outputs": [],
   "source": [
    "(cond (\n",
    "    (equal (getf settings :labenv) \"apartment\") (demos::apartment-demo))\n",
    "    ((equal (getf settings :labenv) \"household\") (demos::household-demo))\n",
    "    ((equal (getf settings :labenv) \"retail\") (demos::retail-demo))\n",
    "    (t (format nil \"Demo ~A not found!!\" (getf settings :labenv)))\n",
    ")"
   ]
  },
  {
   "cell_type": "markdown",
   "id": "ccdb4146-6513-4809-8687-e82948822926",
   "metadata": {},
   "source": [
    "### Notes:\n",
    "- To stop the task, hit the black square in the top bar.\n",
    "- To start a new environment, hit the restart kernel button in the top bar."
   ]
  },
  {
   "cell_type": "markdown",
   "id": "302fd6af-7cfd-467c-bd19-5cf11a227710",
   "metadata": {},
   "source": [
    "## Write your own task"
   ]
  },
  {
   "cell_type": "code",
   "execution_count": null,
   "id": "b2dd7428-eeb8-4c80-a9b2-3f952c91fa51",
   "metadata": {},
   "outputs": [],
   "source": []
  }
 ],
 "metadata": {
  "kernelspec": {
   "display_name": "Common Lisp",
   "language": "common-lisp",
   "name": "common-lisp"
  },
  "language_info": {
   "codemirror_mode": "text/x-common-lisp",
   "file_extension": ".lisp",
   "mimetype": "text/x-common-lisp",
   "name": "common-lisp",
   "pygments_lexer": "common-lisp",
   "version": "2.0.1.debian"
  }
 },
 "nbformat": 4,
 "nbformat_minor": 5
}
